{
 "cells": [
  {
   "cell_type": "code",
   "execution_count": 1,
   "metadata": {
    "collapsed": true
   },
   "outputs": [],
   "source": [
    "import pandas as pd\n",
    "import numpy as np\n",
    "from datetime import datetime\n",
    "from os import walk\n",
    "\n",
    "for (dirpath, dirnames, filenames) in walk('data'):\n",
    "    break"
   ]
  },
  {
   "cell_type": "code",
   "execution_count": 8,
   "metadata": {},
   "outputs": [
    {
     "name": "stdout",
     "output_type": "stream",
     "text": [
      "2559-roda_1.txt: 149\n",
      "2559-roda_2.txt: 149\n",
      "2559-roda_3.txt: 149\n",
      "2559-roda_4.txt: 149\n",
      "2559-roda_5.txt: 149\n",
      "2559-roda_6.txt: 149\n",
      "2559-roda_7.txt: 149\n",
      "2736-roda_1.txt: 134\n",
      "2736-roda_10.txt: 102\n",
      "2736-roda_2.txt: 134\n",
      "2736-roda_3.txt: 134\n",
      "2736-roda_4.txt: 131\n",
      "2736-roda_5.txt: 116\n",
      "2736-roda_6.txt: 19\n",
      "2736-roda_7.txt: 102\n",
      "2736-roda_8.txt: 102\n",
      "2736-roda_9.txt: 102\n",
      "4071-roda_1.txt: 136\n",
      "4071-roda_2.txt: 128\n",
      "4071-roda_3.txt: 120\n",
      "4071-roda_4.txt: 73\n",
      "4071-roda_5.txt: 67\n",
      "4071-roda_6.txt: 94\n",
      "4663-roda_10.txt: 80\n",
      "4663-roda_11.txt: 128\n",
      "4663-roda_14.txt: 128\n",
      "4663-roda_15.txt: 129\n",
      "4663-roda_16.txt: 42\n",
      "4663-roda_17.txt: 116\n",
      "4663-roda_18.txt: 42\n",
      "4663-roda_19.txt: 129\n",
      "4663-roda_20.txt: 117\n",
      "4663-roda_21.txt: 128\n",
      "4663-roda_23.txt: 3\n",
      "4663-roda_24.txt: 51\n",
      "4663-roda_25.txt: 128\n",
      "4663-roda_26.txt: 128\n",
      "4663-roda_28.txt: 123\n",
      "4663-roda_3.txt: 42\n",
      "4663-roda_4.txt: 42\n",
      "4663-roda_5.txt: 42\n",
      "4663-roda_6.txt: 42\n",
      "4663-roda_8.txt: 34\n",
      "4663-roda_9.txt: 79\n",
      "6290-roda_1.txt: 121\n",
      "6290-roda_10.txt: 121\n",
      "6290-roda_11.txt: 121\n",
      "6290-roda_12.txt: 118\n",
      "6290-roda_13.txt: 121\n",
      "6290-roda_14.txt: 121\n",
      "6290-roda_15.txt: 121\n",
      "6290-roda_16.txt: 120\n",
      "6290-roda_17.txt: 121\n",
      "6290-roda_18.txt: 121\n",
      "6290-roda_19.txt: 121\n",
      "6290-roda_2.txt: 121\n",
      "6290-roda_20.txt: 85\n",
      "6290-roda_22.txt: 114\n",
      "6290-roda_23.txt: 79\n",
      "6290-roda_24.txt: 121\n",
      "6290-roda_25.txt: 121\n",
      "6290-roda_26.txt: 121\n",
      "6290-roda_27.txt: 120\n",
      "6290-roda_28.txt: 94\n",
      "6290-roda_29.txt: 54\n",
      "6290-roda_3.txt: 121\n",
      "6290-roda_30.txt: 121\n",
      "6290-roda_31.txt: 121\n",
      "6290-roda_32.txt: 119\n",
      "6290-roda_33.txt: 64\n",
      "6290-roda_34.txt: 121\n",
      "6290-roda_4.txt: 121\n",
      "6290-roda_40.txt: 33\n",
      "6290-roda_41.txt: 114\n",
      "6290-roda_5.txt: 121\n",
      "6290-roda_6.txt: 121\n",
      "6290-roda_7.txt: 121\n",
      "6290-roda_8.txt: 38\n",
      "6290-roda_9.txt: 121\n"
     ]
    }
   ],
   "source": [
    "total_time = 0\n",
    "date_format = \"%Y-%m-%d %H:%M:%S\"\n",
    "\n",
    "for file in filenames:\n",
    "    if file.find('-roda') > 0: \n",
    "        sensor = pd.read_csv('data/'+file, names=['temp','pres','veloc','kilom','date'])\n",
    "        if len(sensor) > 0:\n",
    "            time_min = datetime.strptime(sensor['date'].min(), date_format)\n",
    "            time_max = datetime.strptime(sensor['date'].max(), date_format)\n",
    "            time_reads = (time_max - time_min).days\n",
    "            if not np.isnan(time_reads):\n",
    "                total_time += time_reads\n",
    "            print(file + ': ' + str(time_reads))"
   ]
  },
  {
   "cell_type": "code",
   "execution_count": 9,
   "metadata": {},
   "outputs": [
    {
     "data": {
      "text/plain": [
       "8304"
      ]
     },
     "execution_count": 9,
     "metadata": {},
     "output_type": "execute_result"
    }
   ],
   "source": [
    "total_time"
   ]
  },
  {
   "cell_type": "code",
   "execution_count": 10,
   "metadata": {},
   "outputs": [
    {
     "data": {
      "text/plain": [
       "98.85714285714286"
      ]
     },
     "execution_count": 10,
     "metadata": {},
     "output_type": "execute_result"
    }
   ],
   "source": [
    "total_time/len(filenames)"
   ]
  },
  {
   "cell_type": "code",
   "execution_count": null,
   "metadata": {
    "collapsed": true
   },
   "outputs": [],
   "source": []
  }
 ],
 "metadata": {
  "kernelspec": {
   "display_name": "Python 3",
   "language": "python",
   "name": "python3"
  },
  "language_info": {
   "codemirror_mode": {
    "name": "ipython",
    "version": 3
   },
   "file_extension": ".py",
   "mimetype": "text/x-python",
   "name": "python",
   "nbconvert_exporter": "python",
   "pygments_lexer": "ipython3",
   "version": "3.6.1"
  }
 },
 "nbformat": 4,
 "nbformat_minor": 2
}
