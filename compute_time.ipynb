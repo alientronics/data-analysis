{
 "cells": [
  {
   "cell_type": "code",
   "execution_count": 1,
   "metadata": {
    "collapsed": true,
    "deletable": true,
    "editable": true
   },
   "outputs": [],
   "source": [
    "import pandas as pd\n",
    "import numpy as np\n",
    "from datetime import datetime\n",
    "from os import walk\n",
    "\n",
    "for (dirpath, dirnames, filenames) in walk('data'):\n",
    "    break"
   ]
  },
  {
   "cell_type": "code",
   "execution_count": 4,
   "metadata": {
    "collapsed": false,
    "deletable": true,
    "editable": true
   },
   "outputs": [
    {
     "name": "stdout",
     "output_type": "stream",
     "text": [
      "roda_3.txt: 42\n"
     ]
    }
   ],
   "source": [
    "total_time = 0\n",
    "date_format = \"%Y-%m-%d %H:%M:%S\"\n",
    "\n",
    "for file in filenames:\n",
    "    if file.find('-roda') > 0: \n",
    "        sensor = pd.read_csv('data/'+file, names=['temp','pres','veloc','kilom','date'])\n",
    "        time_min = datetime.strptime(sensor['date'].min(), date_format)\n",
    "        time_max = datetime.strptime(sensor['date'].max(), date_format)\n",
    "        time_reads = (time_max - time_min).days\n",
    "        if not np.isnan(time_reads):\n",
    "            total_time += time_reads\n",
    "        print(file + ': ' + str(time_reads))"
   ]
  },
  {
   "cell_type": "code",
   "execution_count": 5,
   "metadata": {
    "collapsed": false,
    "deletable": true,
    "editable": true
   },
   "outputs": [
    {
     "data": {
      "text/plain": [
       "42"
      ]
     },
     "execution_count": 5,
     "metadata": {},
     "output_type": "execute_result"
    }
   ],
   "source": [
    "total_time"
   ]
  },
  {
   "cell_type": "code",
   "execution_count": null,
   "metadata": {
    "collapsed": true,
    "deletable": true,
    "editable": true
   },
   "outputs": [],
   "source": []
  }
 ],
 "metadata": {
  "kernelspec": {
   "display_name": "Python 3",
   "language": "python",
   "name": "python3"
  },
  "language_info": {
   "codemirror_mode": {
    "name": "ipython",
    "version": 3
   },
   "file_extension": ".py",
   "mimetype": "text/x-python",
   "name": "python",
   "nbconvert_exporter": "python",
   "pygments_lexer": "ipython3",
   "version": "3.5.2"
  }
 },
 "nbformat": 4,
 "nbformat_minor": 2
}
