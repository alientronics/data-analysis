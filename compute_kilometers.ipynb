{
 "cells": [
  {
   "cell_type": "code",
   "execution_count": 2,
   "metadata": {
    "collapsed": true
   },
   "outputs": [],
   "source": [
    "import pandas as pd\n",
    "import numpy as np\n",
    "from os import walk\n",
    "\n",
    "for (dirpath, dirnames, filenames) in walk('data'):\n",
    "    break"
   ]
  },
  {
   "cell_type": "code",
   "execution_count": 3,
   "metadata": {},
   "outputs": [
    {
     "name": "stdout",
     "output_type": "stream",
     "text": [
      "2559-roda_1.txt: 4295.99920055\n",
      "2559-roda_2.txt: 4295.99920055\n",
      "2559-roda_3.txt: 4295.99920055\n",
      "2559-roda_4.txt: 4295.99179256\n",
      "2559-roda_5.txt: 4295.99920055\n",
      "2559-roda_6.txt: 4295.99920055\n",
      "2559-roda_7.txt: 4295.99920055\n",
      "2736-roda_1.txt: 46541.7457991\n",
      "2736-roda_10.txt: 34896.5909877\n",
      "2736-roda_2.txt: 46541.7457991\n",
      "2736-roda_3.txt: 46541.7532071\n",
      "2736-roda_4.txt: 45408.6079861\n",
      "2736-roda_5.txt: 40346.2592556\n",
      "2736-roda_6.txt: 8967.93000032\n",
      "2736-roda_7.txt: 34896.6650677\n",
      "2736-roda_8.txt: 34896.6650677\n",
      "2736-roda_9.txt: 34896.5909877\n",
      "4071-roda_1.txt: 29020.9334559\n",
      "4071-roda_2.txt: 27374.6402222\n",
      "4071-roda_3.txt: 25803.9122272\n",
      "4071-roda_4.txt: 17912.6359407\n",
      "4071-roda_5.txt: 16293.1614958\n",
      "4071-roda_6.txt: 22833.5994093\n",
      "4663-roda_10.txt: 22241.2636491\n",
      "4663-roda_11.txt: 32939.6065024\n",
      "4663-roda_14.txt: 32934.0727312\n",
      "4663-roda_15.txt: 33376.0299254\n",
      "4663-roda_16.txt: 11047.4297358\n",
      "4663-roda_17.txt: 27971.1763148\n",
      "4663-roda_18.txt: 11047.4297358\n",
      "4663-roda_19.txt: 33319.8699259\n",
      "4663-roda_20.txt: 27993.0595279\n",
      "4663-roda_21.txt: 32933.8690114\n",
      "4663-roda_23.txt: 144.809606894\n",
      "4663-roda_24.txt: 13435.6964965\n",
      "4663-roda_25.txt: 32953.3409226\n",
      "4663-roda_26.txt: 32934.1023632\n",
      "4663-roda_28.txt: 30746.8403968\n",
      "4663-roda_3.txt: 11046.3759487\n",
      "4663-roda_4.txt: 11046.4481766\n",
      "4663-roda_5.txt: 11046.4778086\n",
      "4663-roda_6.txt: 11046.3666887\n",
      "4663-roda_8.txt: 7912.8965158\n",
      "4663-roda_9.txt: 21725.7339665\n",
      "6290-roda_1.txt: 37941.4059972\n",
      "6290-roda_10.txt: 37941.4059972\n",
      "6290-roda_11.txt: 37941.3985892\n",
      "6290-roda_12.txt: 36862.3057935\n",
      "6290-roda_13.txt: 37941.3985892\n",
      "6290-roda_14.txt: 37941.4134052\n",
      "6290-roda_15.txt: 37941.3985892\n",
      "6290-roda_16.txt: 37941.3985892\n",
      "6290-roda_17.txt: 37941.4134052\n",
      "6290-roda_18.txt: 37941.4134052\n",
      "6290-roda_19.txt: 37941.4059972\n",
      "6290-roda_2.txt: 37941.3985892\n",
      "6290-roda_20.txt: 28069.7804136\n",
      "6290-roda_22.txt: 36099.3009727\n",
      "6290-roda_23.txt: 26729.9447632\n",
      "6290-roda_24.txt: 37938.8983914\n",
      "6290-roda_25.txt: 37941.3985892\n",
      "6290-roda_26.txt: 37941.4134052\n",
      "6290-roda_27.txt: 37941.4059972\n",
      "6290-roda_28.txt: 31109.2635197\n",
      "6290-roda_29.txt: 18926.3513409\n",
      "6290-roda_3.txt: 37941.4059972\n",
      "6290-roda_30.txt: 37941.3985892\n",
      "6290-roda_31.txt: 37941.4134052\n",
      "6290-roda_32.txt: 37210.4000048\n",
      "6290-roda_33.txt: 21767.4446744\n",
      "6290-roda_34.txt: 37941.4134052\n",
      "6290-roda_4.txt: 37941.4134052\n",
      "6290-roda_40.txt: 12650.332499\n",
      "6290-roda_41.txt: 36022.7763988\n",
      "6290-roda_5.txt: 37941.4059972\n",
      "6290-roda_6.txt: 37941.4059972\n",
      "6290-roda_7.txt: 37941.4059972\n",
      "6290-roda_8.txt: 14368.4888266\n",
      "6290-roda_9.txt: 37941.4134052\n"
     ]
    }
   ],
   "source": [
    "total_kilom = 0\n",
    "for file in filenames:\n",
    "    if file.find('-roda') > 0: \n",
    "        sensor = pd.read_csv('data/'+file, names=['temp','pres','veloc','kilom','date'])\n",
    "        if len(sensor) > 0:\n",
    "            kilom_reads = sensor['kilom'].max() - sensor['kilom'].min()\n",
    "            if not np.isnan(kilom_reads):\n",
    "                total_kilom += kilom_reads\n",
    "            print(file + ': ' + str(kilom_reads))"
   ]
  },
  {
   "cell_type": "code",
   "execution_count": 4,
   "metadata": {},
   "outputs": [
    {
     "data": {
      "text/plain": [
       "2203495.9527981211"
      ]
     },
     "execution_count": 4,
     "metadata": {},
     "output_type": "execute_result"
    }
   ],
   "source": [
    "total_kilom"
   ]
  },
  {
   "cell_type": "code",
   "execution_count": 5,
   "metadata": {},
   "outputs": [
    {
     "data": {
      "text/plain": [
       "26232.094676168108"
      ]
     },
     "execution_count": 5,
     "metadata": {},
     "output_type": "execute_result"
    }
   ],
   "source": [
    "total_kilom/len(filenames)"
   ]
  },
  {
   "cell_type": "code",
   "execution_count": null,
   "metadata": {
    "collapsed": true
   },
   "outputs": [],
   "source": []
  }
 ],
 "metadata": {
  "kernelspec": {
   "display_name": "Python 3",
   "language": "python",
   "name": "python3"
  },
  "language_info": {
   "codemirror_mode": {
    "name": "ipython",
    "version": 3
   },
   "file_extension": ".py",
   "mimetype": "text/x-python",
   "name": "python",
   "nbconvert_exporter": "python",
   "pygments_lexer": "ipython3",
   "version": "3.6.1"
  }
 },
 "nbformat": 4,
 "nbformat_minor": 2
}
