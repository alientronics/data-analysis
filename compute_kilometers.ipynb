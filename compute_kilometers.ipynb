{
 "cells": [
  {
   "cell_type": "code",
   "execution_count": 15,
   "metadata": {},
   "outputs": [],
   "source": [
    "import pandas as pd\n",
    "from os import walk\n",
    "\n",
    "for (dirpath, dirnames, filenames) in walk('data'):\n",
    "    break"
   ]
  },
  {
   "cell_type": "code",
   "execution_count": 16,
   "metadata": {},
   "outputs": [
    {
     "name": "stdout",
     "output_type": "stream",
     "text": [
      "4663-roda_3.txt: 11046.3759487\n",
      "4663-roda_4.txt: 11046.4481766\n",
      "4663-roda_5.txt: 11046.4778086\n",
      "4663-roda_6.txt: 11046.3666887\n"
     ]
    }
   ],
   "source": [
    "total_kilom = 0\n",
    "for file in filenames:\n",
    "    sensor = pd.read_csv('data/'+file, names=['pres','temp','veloc','kilom','date'])\n",
    "    kilom_reads = sensor['kilom'].max() - sensor['kilom'].min()\n",
    "    total_kilom += kilom_reads\n",
    "    print(file + ': ' + str(kilom_reads))"
   ]
  },
  {
   "cell_type": "code",
   "execution_count": 17,
   "metadata": {},
   "outputs": [
    {
     "data": {
      "text/plain": [
       "44185.668622601996"
      ]
     },
     "execution_count": 17,
     "metadata": {},
     "output_type": "execute_result"
    }
   ],
   "source": [
    "total_kilom"
   ]
  }
 ],
 "metadata": {
  "kernelspec": {
   "display_name": "Python 3",
   "language": "python",
   "name": "python3"
  },
  "language_info": {
   "codemirror_mode": {
    "name": "ipython",
    "version": 3
   },
   "file_extension": ".py",
   "mimetype": "text/x-python",
   "name": "python",
   "nbconvert_exporter": "python",
   "pygments_lexer": "ipython3",
   "version": "3.6.1"
  }
 },
 "nbformat": 4,
 "nbformat_minor": 2
}
