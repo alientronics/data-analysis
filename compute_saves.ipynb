{
 "cells": [
  {
   "cell_type": "code",
   "execution_count": 34,
   "metadata": {
    "collapsed": true,
    "deletable": true,
    "editable": true
   },
   "outputs": [],
   "source": [
    "import pandas as pd\n",
    "import numpy as np\n",
    "from datetime import datetime\n",
    "from os import walk\n",
    "\n",
    "for (dirpath, dirnames, filenames) in walk('data'):\n",
    "    break"
   ]
  },
  {
   "cell_type": "code",
   "execution_count": 35,
   "metadata": {
    "collapsed": false,
    "deletable": true,
    "editable": true
   },
   "outputs": [
    {
     "data": {
      "text/plain": [
       "(258900, 8)"
      ]
     },
     "execution_count": 35,
     "metadata": {},
     "output_type": "execute_result"
    }
   ],
   "source": [
    "sensores = pd.DataFrame(columns=['temp','pres','veloc','kilom','date'])\n",
    "for file in filenames:\n",
    "    if file.find('oda') > 0:\n",
    "        sensor = pd.read_csv('data/'+file, names=['temp','pres','veloc','kilom','date'])\n",
    "        \n",
    "        # adiciona próxima leitura de pressão\n",
    "        next_pres = sensor['pres'][1:].values\n",
    "        next_pres = np.append(next_pres, sensor['pres'][0])\n",
    "        sensor['next_pres'] = next_pres\n",
    "        \n",
    "        # adiciona próxima data\n",
    "        next_date = sensor['date'][1:].values\n",
    "        next_date = np.append(next_date, sensor['date'][0])\n",
    "        sensor['next_date'] = next_date\n",
    "        \n",
    "        #remove último registro sem próximo\n",
    "        sensor = sensor[:-1]\n",
    "        \n",
    "        sensor['tires'] = file\n",
    "        sensores = sensores.append(sensor)\n",
    "            \n",
    "sensores.shape"
   ]
  },
  {
   "cell_type": "code",
   "execution_count": 36,
   "metadata": {
    "collapsed": false,
    "deletable": true,
    "editable": true
   },
   "outputs": [
    {
     "data": {
      "text/plain": [
       "(258900, 9)"
      ]
     },
     "execution_count": 36,
     "metadata": {},
     "output_type": "execute_result"
    }
   ],
   "source": [
    "def press_diff(x): \n",
    "    try:\n",
    "        return abs(x['pres'] - x['next_pres'])\n",
    "    except:\n",
    "        return 0\n",
    "    \n",
    "sensores['press_diff'] = sensores.apply(press_diff,axis=1)\n",
    "sensores.shape"
   ]
  },
  {
   "cell_type": "code",
   "execution_count": 37,
   "metadata": {
    "collapsed": false,
    "deletable": true,
    "editable": true
   },
   "outputs": [
    {
     "data": {
      "text/plain": [
       "(2, 9)"
      ]
     },
     "execution_count": 37,
     "metadata": {},
     "output_type": "execute_result"
    }
   ],
   "source": [
    "sensor_filter = sensores[(sensores['press_diff'] > 0) & (sensores['pres'] < 100)]\n",
    "sensor_filter.shape"
   ]
  },
  {
   "cell_type": "code",
   "execution_count": 38,
   "metadata": {
    "collapsed": false,
    "deletable": true,
    "editable": true
   },
   "outputs": [
    {
     "data": {
      "text/html": [
       "<div>\n",
       "<table border=\"1\" class=\"dataframe\">\n",
       "  <thead>\n",
       "    <tr style=\"text-align: right;\">\n",
       "      <th></th>\n",
       "      <th>date</th>\n",
       "      <th>kilom</th>\n",
       "      <th>next_date</th>\n",
       "      <th>next_pres</th>\n",
       "      <th>pres</th>\n",
       "      <th>temp</th>\n",
       "      <th>tires</th>\n",
       "      <th>veloc</th>\n",
       "      <th>press_diff</th>\n",
       "    </tr>\n",
       "  </thead>\n",
       "  <tbody>\n",
       "    <tr>\n",
       "      <th>31771</th>\n",
       "      <td>2017-02-03 10:25:01</td>\n",
       "      <td>144.626259</td>\n",
       "      <td>2017-02-03 10:27:10</td>\n",
       "      <td>0.0</td>\n",
       "      <td>89.0</td>\n",
       "      <td>20.0</td>\n",
       "      <td>roda_3.txt</td>\n",
       "      <td>0.0</td>\n",
       "      <td>89.0</td>\n",
       "    </tr>\n",
       "    <tr>\n",
       "      <th>31780</th>\n",
       "      <td>2017-02-03 10:39:47</td>\n",
       "      <td>144.691079</td>\n",
       "      <td>2017-02-03 10:41:35</td>\n",
       "      <td>114.0</td>\n",
       "      <td>0.0</td>\n",
       "      <td>23.0</td>\n",
       "      <td>roda_3.txt</td>\n",
       "      <td>0.0</td>\n",
       "      <td>114.0</td>\n",
       "    </tr>\n",
       "  </tbody>\n",
       "</table>\n",
       "</div>"
      ],
      "text/plain": [
       "                      date       kilom            next_date  next_pres  pres  \\\n",
       "31771  2017-02-03 10:25:01  144.626259  2017-02-03 10:27:10        0.0  89.0   \n",
       "31780  2017-02-03 10:39:47  144.691079  2017-02-03 10:41:35      114.0   0.0   \n",
       "\n",
       "       temp       tires  veloc  press_diff  \n",
       "31771  20.0  roda_3.txt    0.0        89.0  \n",
       "31780  23.0  roda_3.txt    0.0       114.0  "
      ]
     },
     "execution_count": 38,
     "metadata": {},
     "output_type": "execute_result"
    }
   ],
   "source": [
    "sensor_filter"
   ]
  },
  {
   "cell_type": "code",
   "execution_count": null,
   "metadata": {
    "collapsed": true,
    "deletable": true,
    "editable": true
   },
   "outputs": [],
   "source": []
  }
 ],
 "metadata": {
  "kernelspec": {
   "display_name": "Python 3",
   "language": "python",
   "name": "python3"
  },
  "language_info": {
   "codemirror_mode": {
    "name": "ipython",
    "version": 3
   },
   "file_extension": ".py",
   "mimetype": "text/x-python",
   "name": "python",
   "nbconvert_exporter": "python",
   "pygments_lexer": "ipython3",
   "version": "3.5.2"
  }
 },
 "nbformat": 4,
 "nbformat_minor": 2
}
