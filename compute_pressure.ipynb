{
 "cells": [
  {
   "cell_type": "code",
   "execution_count": 2,
   "metadata": {
    "collapsed": true,
    "deletable": true,
    "editable": true
   },
   "outputs": [],
   "source": [
    "import pandas as pd\n",
    "import numpy as np\n",
    "from datetime import datetime\n",
    "from os import walk\n",
    "\n",
    "for (dirpath, dirnames, filenames) in walk('data'):\n",
    "    break"
   ]
  },
  {
   "cell_type": "code",
   "execution_count": 41,
   "metadata": {
    "collapsed": false,
    "deletable": true,
    "editable": true
   },
   "outputs": [
    {
     "data": {
      "text/plain": [
       "{-30: 0,\n",
       " -25: 0,\n",
       " -20: 0,\n",
       " -15: 437,\n",
       " -10: 3947,\n",
       " -5: 3952,\n",
       " 0: 10917,\n",
       " 5: 118,\n",
       " 10: 25,\n",
       " 15: 0,\n",
       " 20: 0}"
      ]
     },
     "execution_count": 41,
     "metadata": {},
     "output_type": "execute_result"
    }
   ],
   "source": [
    "total_time = 0\n",
    "ideal_pressure = 120\n",
    "date_format = \"%Y-%m-%d %H:%M:%S\"\n",
    "histogram = {}\n",
    "\n",
    "for interval in range(-30,21,5):\n",
    "    histogram[interval] = 0\n",
    "\n",
    "for file in filenames:\n",
    "    if file.find('oda') > 0: \n",
    "        sensor = pd.read_csv('data/'+file, names=['temp','pres','veloc','kilom','date'])\n",
    "        for interval in range(-30,21,5):\n",
    "            max_int = (ideal_pressure*((100-interval)/100))\n",
    "            min_int = max_int - 5 \n",
    "            sensor_filter = sensor[(sensor['pres'] > min_int) & (sensor['pres'] < max_int)]\n",
    "            sensor_filter = sensor_filter[sensor_filter['veloc']>0]\n",
    "            histogram[interval] += len(sensor_filter)\n",
    "        #time_min = datetime.strptime(sensor['date'].min(), date_format)\n",
    "        #time_max = datetime.strptime(sensor['date'].max(), date_format)\n",
    "        #time_reads = (time_max - time_min).days\n",
    "        #if not np.isnan(time_reads):\n",
    "        #    total_time += time_reads\n",
    "        #print(file + ': ' + str(time_reads))\n",
    "        \n",
    "histogram"
   ]
  },
  {
   "cell_type": "code",
   "execution_count": 7,
   "metadata": {
    "collapsed": false,
    "deletable": true,
    "editable": true
   },
   "outputs": [
    {
     "data": {
      "text/plain": [
       "0"
      ]
     },
     "execution_count": 7,
     "metadata": {},
     "output_type": "execute_result"
    }
   ],
   "source": [
    "total_time"
   ]
  },
  {
   "cell_type": "code",
   "execution_count": null,
   "metadata": {
    "collapsed": true,
    "deletable": true,
    "editable": true
   },
   "outputs": [],
   "source": []
  }
 ],
 "metadata": {
  "kernelspec": {
   "display_name": "Python 3",
   "language": "python",
   "name": "python3"
  },
  "language_info": {
   "codemirror_mode": {
    "name": "ipython",
    "version": 3
   },
   "file_extension": ".py",
   "mimetype": "text/x-python",
   "name": "python",
   "nbconvert_exporter": "python",
   "pygments_lexer": "ipython3",
   "version": "3.5.2"
  }
 },
 "nbformat": 4,
 "nbformat_minor": 2
}
