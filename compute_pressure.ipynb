{
 "cells": [
  {
   "cell_type": "code",
   "execution_count": 1,
   "metadata": {
    "collapsed": true
   },
   "outputs": [],
   "source": [
    "import pandas as pd\n",
    "import numpy as np\n",
    "from datetime import datetime\n",
    "from os import walk\n",
    "\n",
    "for (dirpath, dirnames, filenames) in walk('data'):\n",
    "    break"
   ]
  },
  {
   "cell_type": "code",
   "execution_count": 7,
   "metadata": {},
   "outputs": [
    {
     "data": {
      "text/plain": [
       "{-50: 0,\n",
       " -45: 0,\n",
       " -40: 0,\n",
       " -35: 64,\n",
       " -30: 3757,\n",
       " -25: 17652,\n",
       " -20: 33512,\n",
       " -15: 67393,\n",
       " -10: 56670,\n",
       " -5: 121363,\n",
       " 0: 141545,\n",
       " 5: 72680,\n",
       " 10: 14170,\n",
       " 15: 2038,\n",
       " 20: 1414,\n",
       " 25: 10731,\n",
       " 30: 327,\n",
       " 35: 497,\n",
       " 40: 763,\n",
       " 45: 934,\n",
       " 50: 2368,\n",
       " 55: 1496,\n",
       " 60: 735,\n",
       " 65: 241,\n",
       " 70: 960,\n",
       " 75: 1622,\n",
       " 80: 782,\n",
       " 85: 737,\n",
       " 90: 310,\n",
       " 95: 51,\n",
       " 100: 0}"
      ]
     },
     "execution_count": 7,
     "metadata": {},
     "output_type": "execute_result"
    }
   ],
   "source": [
    "total_time = 0\n",
    "ideal_pressure = 120\n",
    "date_format = \"%Y-%m-%d %H:%M:%S\"\n",
    "histogram = {}\n",
    "\n",
    "for interval in range(-50,101,5):\n",
    "    histogram[interval] = 0\n",
    "\n",
    "for file in filenames:\n",
    "    if file.find('oda') > 0: \n",
    "        sensor = pd.read_csv('data/'+file, names=['temp','pres','veloc','kilom','date'])\n",
    "        if len(sensor) > 0:\n",
    "            for interval in range(-50,101,5):\n",
    "                max_int = (ideal_pressure*((100-interval)/100))\n",
    "                min_int = max_int - 5 \n",
    "                sensor_filter = sensor[(sensor['pres'] > min_int) & (sensor['pres'] < max_int)]\n",
    "                sensor_filter = sensor_filter[sensor_filter['veloc']>0]\n",
    "                histogram[interval] += len(sensor_filter)\n",
    "        \n",
    "histogram"
   ]
  },
  {
   "cell_type": "code",
   "execution_count": null,
   "metadata": {
    "collapsed": true
   },
   "outputs": [],
   "source": []
  }
 ],
 "metadata": {
  "kernelspec": {
   "display_name": "Python 3",
   "language": "python",
   "name": "python3"
  },
  "language_info": {
   "codemirror_mode": {
    "name": "ipython",
    "version": 3
   },
   "file_extension": ".py",
   "mimetype": "text/x-python",
   "name": "python",
   "nbconvert_exporter": "python",
   "pygments_lexer": "ipython3",
   "version": "3.6.1"
  }
 },
 "nbformat": 4,
 "nbformat_minor": 2
}
